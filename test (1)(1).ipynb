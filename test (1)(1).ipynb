{
 "cells": [
  {
   "cell_type": "markdown",
   "metadata": {},
   "source": [
    "# Individual Assignment 1"
   ]
  },
  {
   "cell_type": "markdown",
   "metadata": {},
   "source": [
    "This assignment extends the in-class exercise on simple linear regression analysis. \n",
    "\n",
    "You are allowed to use resources including lecture slides, in-class examples, and the internet, etc. You are **not allowed** to discuss this assignment with **anyone** other than the course instructor. This assignment is required to be your individual work.\n",
    "\n",
    "Completed assignment should be merged to the **main** branch in your GitHub repository using the same file names."
   ]
  },
  {
   "cell_type": "markdown",
   "metadata": {
    "tags": []
   },
   "source": [
    "***\n",
    "### Student Name:"
   ]
  },
  {
   "cell_type": "markdown",
   "metadata": {
    "tags": []
   },
   "source": [
    "Last name, First name, TMU email address"
   ]
  },
  {
   "cell_type": "markdown",
   "metadata": {},
   "source": [
    "***\n",
    "## Data Description\n",
    "\n",
    "The rental data with file name ```RENTAL.csv``` contains the following variables:\n",
    "\n",
    "| Name | Description |\n",
    "| :------------- | :---------- |\n",
    "| city | city label, 1 to 64 |\n",
    "| year | 80 or 90 |\n",
    "| pop | city population |\n",
    "| rent | average rent |\n",
    "| avginc | per capita income |\n",
    "| lrent | log(rent) |\n",
    "| lpop | log(pop) |\n",
    "| lavginc | log(avginc) |\n",
    "| pctstu | student population *in percentage points* |"
   ]
  },
  {
   "cell_type": "markdown",
   "metadata": {},
   "source": [
    "***\n",
    "## Load the required modules"
   ]
  },
  {
   "cell_type": "code",
   "execution_count": 3,
   "metadata": {
    "execution": {
     "iopub.execute_input": "2025-02-21T11:49:49.327118Z",
     "iopub.status.busy": "2025-02-21T11:49:49.326846Z",
     "iopub.status.idle": "2025-02-21T11:49:50.216048Z",
     "shell.execute_reply": "2025-02-21T11:49:50.215387Z"
    },
    "ExecuteTime": {
     "end_time": "2025-04-24T01:54:57.468420400Z",
     "start_time": "2025-04-24T01:54:57.451687900Z"
    }
   },
   "outputs": [],
   "source": [
    "import numpy as np\n",
    "import pandas as pd\n",
    "import statsmodels\n",
    "import statsmodels.api as sm\n",
    "import statsmodels.formula.api as smf"
   ]
  },
  {
   "cell_type": "markdown",
   "metadata": {},
   "source": [
    "***\n",
    "## Question 1"
   ]
  },
  {
   "cell_type": "markdown",
   "metadata": {},
   "source": [
    "#### 1.1 Load the data set from \"RENTAL.csv\" (5 points)"
   ]
  },
  {
   "cell_type": "code",
   "execution_count": 4,
   "metadata": {
    "ExecuteTime": {
     "end_time": "2025-04-24T01:54:58.886347500Z",
     "start_time": "2025-04-24T01:54:58.871824500Z"
    }
   },
   "outputs": [],
   "source": [
    "rent_data = pd.read_csv(\"RENTAL.csv\")"
   ]
  },
  {
   "cell_type": "markdown",
   "metadata": {},
   "source": [
    "#### 1.2 Show the first 5 rows of the data set imported from \"RENTAL.csv\" (5 points)"
   ]
  },
  {
   "cell_type": "code",
   "execution_count": 5,
   "metadata": {
    "ExecuteTime": {
     "end_time": "2025-04-24T01:55:00.629793100Z",
     "start_time": "2025-04-24T01:55:00.555633700Z"
    }
   },
   "outputs": [
    {
     "data": {
      "text/plain": "   city  year     pop  rent  avginc     lrent      lpop    lavginc    pctstu\n0     1    80   75211   197   11537  5.283204  11.22805   9.353314  20.34676\n1     1    90   77759   342   19568  5.834811  11.26137   9.881651  23.17031\n2     2    80  106743   323   19841  5.777652  11.57818   9.895506  21.04307\n3     2    90  141865   496   31885  6.206576  11.86263  10.369890  20.98403\n4     3    80   36608   216   11455  5.375278  10.50802   9.346182  32.36178",
      "text/html": "<div>\n<style scoped>\n    .dataframe tbody tr th:only-of-type {\n        vertical-align: middle;\n    }\n\n    .dataframe tbody tr th {\n        vertical-align: top;\n    }\n\n    .dataframe thead th {\n        text-align: right;\n    }\n</style>\n<table border=\"1\" class=\"dataframe\">\n  <thead>\n    <tr style=\"text-align: right;\">\n      <th></th>\n      <th>city</th>\n      <th>year</th>\n      <th>pop</th>\n      <th>rent</th>\n      <th>avginc</th>\n      <th>lrent</th>\n      <th>lpop</th>\n      <th>lavginc</th>\n      <th>pctstu</th>\n    </tr>\n  </thead>\n  <tbody>\n    <tr>\n      <th>0</th>\n      <td>1</td>\n      <td>80</td>\n      <td>75211</td>\n      <td>197</td>\n      <td>11537</td>\n      <td>5.283204</td>\n      <td>11.22805</td>\n      <td>9.353314</td>\n      <td>20.34676</td>\n    </tr>\n    <tr>\n      <th>1</th>\n      <td>1</td>\n      <td>90</td>\n      <td>77759</td>\n      <td>342</td>\n      <td>19568</td>\n      <td>5.834811</td>\n      <td>11.26137</td>\n      <td>9.881651</td>\n      <td>23.17031</td>\n    </tr>\n    <tr>\n      <th>2</th>\n      <td>2</td>\n      <td>80</td>\n      <td>106743</td>\n      <td>323</td>\n      <td>19841</td>\n      <td>5.777652</td>\n      <td>11.57818</td>\n      <td>9.895506</td>\n      <td>21.04307</td>\n    </tr>\n    <tr>\n      <th>3</th>\n      <td>2</td>\n      <td>90</td>\n      <td>141865</td>\n      <td>496</td>\n      <td>31885</td>\n      <td>6.206576</td>\n      <td>11.86263</td>\n      <td>10.369890</td>\n      <td>20.98403</td>\n    </tr>\n    <tr>\n      <th>4</th>\n      <td>3</td>\n      <td>80</td>\n      <td>36608</td>\n      <td>216</td>\n      <td>11455</td>\n      <td>5.375278</td>\n      <td>10.50802</td>\n      <td>9.346182</td>\n      <td>32.36178</td>\n    </tr>\n  </tbody>\n</table>\n</div>"
     },
     "execution_count": 5,
     "metadata": {},
     "output_type": "execute_result"
    }
   ],
   "source": [
    "rent_data.head()"
   ]
  },
  {
   "cell_type": "markdown",
   "metadata": {},
   "source": [
    "#### 1.3 Get statistical moments (5 points)"
   ]
  },
  {
   "cell_type": "code",
   "execution_count": 6,
   "metadata": {
    "ExecuteTime": {
     "end_time": "2025-04-24T01:55:03.357362600Z",
     "start_time": "2025-04-24T01:55:03.312625200Z"
    }
   },
   "outputs": [
    {
     "data": {
      "text/plain": "             city        year            pop        rent        avginc  \\\ncount  128.000000  128.000000     128.000000  128.000000    128.000000   \nmean    32.500000   85.000000   84645.351562  331.406250  18912.015625   \nstd     18.545539    5.019646   80322.061828  119.588562   6965.974206   \nmin      1.000000   80.000000   25728.000000  186.000000   9262.000000   \n25%     16.750000   80.000000   40927.250000  233.500000  13508.500000   \n50%     32.500000   85.000000   62093.500000  324.000000  17416.000000   \n75%     48.250000   90.000000  101221.250000  401.500000  23213.000000   \nmax     64.000000   90.000000  632910.000000  925.000000  56307.000000   \n\n            lrent        lpop     lavginc      pctstu  \ncount  128.000000  128.000000  128.000000  128.000000  \nmean     5.746195   11.114305    9.788184   27.415119  \nstd      0.332707    0.625036    0.340094   13.754474  \nmin      5.225747   10.155340    9.133676    9.941273  \n25%      5.453175   10.619550    9.511073   16.982550  \n50%      5.780739   11.036395    9.764973   23.628875  \n75%      5.995205   11.525063   10.052465   35.540577  \nmax      6.829794   13.358080   10.938570   71.209820  ",
      "text/html": "<div>\n<style scoped>\n    .dataframe tbody tr th:only-of-type {\n        vertical-align: middle;\n    }\n\n    .dataframe tbody tr th {\n        vertical-align: top;\n    }\n\n    .dataframe thead th {\n        text-align: right;\n    }\n</style>\n<table border=\"1\" class=\"dataframe\">\n  <thead>\n    <tr style=\"text-align: right;\">\n      <th></th>\n      <th>city</th>\n      <th>year</th>\n      <th>pop</th>\n      <th>rent</th>\n      <th>avginc</th>\n      <th>lrent</th>\n      <th>lpop</th>\n      <th>lavginc</th>\n      <th>pctstu</th>\n    </tr>\n  </thead>\n  <tbody>\n    <tr>\n      <th>count</th>\n      <td>128.000000</td>\n      <td>128.000000</td>\n      <td>128.000000</td>\n      <td>128.000000</td>\n      <td>128.000000</td>\n      <td>128.000000</td>\n      <td>128.000000</td>\n      <td>128.000000</td>\n      <td>128.000000</td>\n    </tr>\n    <tr>\n      <th>mean</th>\n      <td>32.500000</td>\n      <td>85.000000</td>\n      <td>84645.351562</td>\n      <td>331.406250</td>\n      <td>18912.015625</td>\n      <td>5.746195</td>\n      <td>11.114305</td>\n      <td>9.788184</td>\n      <td>27.415119</td>\n    </tr>\n    <tr>\n      <th>std</th>\n      <td>18.545539</td>\n      <td>5.019646</td>\n      <td>80322.061828</td>\n      <td>119.588562</td>\n      <td>6965.974206</td>\n      <td>0.332707</td>\n      <td>0.625036</td>\n      <td>0.340094</td>\n      <td>13.754474</td>\n    </tr>\n    <tr>\n      <th>min</th>\n      <td>1.000000</td>\n      <td>80.000000</td>\n      <td>25728.000000</td>\n      <td>186.000000</td>\n      <td>9262.000000</td>\n      <td>5.225747</td>\n      <td>10.155340</td>\n      <td>9.133676</td>\n      <td>9.941273</td>\n    </tr>\n    <tr>\n      <th>25%</th>\n      <td>16.750000</td>\n      <td>80.000000</td>\n      <td>40927.250000</td>\n      <td>233.500000</td>\n      <td>13508.500000</td>\n      <td>5.453175</td>\n      <td>10.619550</td>\n      <td>9.511073</td>\n      <td>16.982550</td>\n    </tr>\n    <tr>\n      <th>50%</th>\n      <td>32.500000</td>\n      <td>85.000000</td>\n      <td>62093.500000</td>\n      <td>324.000000</td>\n      <td>17416.000000</td>\n      <td>5.780739</td>\n      <td>11.036395</td>\n      <td>9.764973</td>\n      <td>23.628875</td>\n    </tr>\n    <tr>\n      <th>75%</th>\n      <td>48.250000</td>\n      <td>90.000000</td>\n      <td>101221.250000</td>\n      <td>401.500000</td>\n      <td>23213.000000</td>\n      <td>5.995205</td>\n      <td>11.525063</td>\n      <td>10.052465</td>\n      <td>35.540577</td>\n    </tr>\n    <tr>\n      <th>max</th>\n      <td>64.000000</td>\n      <td>90.000000</td>\n      <td>632910.000000</td>\n      <td>925.000000</td>\n      <td>56307.000000</td>\n      <td>6.829794</td>\n      <td>13.358080</td>\n      <td>10.938570</td>\n      <td>71.209820</td>\n    </tr>\n  </tbody>\n</table>\n</div>"
     },
     "execution_count": 6,
     "metadata": {},
     "output_type": "execute_result"
    }
   ],
   "source": [
    "rent_data.describe()"
   ]
  },
  {
   "cell_type": "markdown",
   "metadata": {},
   "source": [
    "#### 1.4 How many observations are there? (5 points)"
   ]
  },
  {
   "cell_type": "markdown",
   "metadata": {},
   "source": [
    "There are 128 observations."
   ]
  },
  {
   "cell_type": "markdown",
   "metadata": {},
   "source": [
    "#### 1.5 What is the sample average rent and sample average income? (5 points)"
   ]
  },
  {
   "cell_type": "markdown",
   "metadata": {},
   "source": [
    "The average rent is $331.41."
   ]
  },
  {
   "cell_type": "markdown",
   "metadata": {},
   "source": [
    "***\n",
    "## Question 2\n",
    "\n",
    "Are rental rates influenced by the per capita income in a city? Our proposed model to test for a relationship is\n",
    "$$rent = \\beta_0 + \\beta_1 avginc + u.$$"
   ]
  },
  {
   "cell_type": "markdown",
   "metadata": {},
   "source": [
    "#### 2.1 Create a scatter plot to visualize the relationship between rent and per capita income (5 points)\n",
    "You should plot per capita income on the x-axis and rent on the y-axis"
   ]
  },
  {
   "cell_type": "code",
   "execution_count": null,
   "metadata": {},
   "outputs": [],
   "source": []
  },
  {
   "cell_type": "markdown",
   "metadata": {},
   "source": [
    "#### 2.2 Judging from the scatterplot, what is the correlation between rent and average income? (5 point)"
   ]
  },
  {
   "cell_type": "markdown",
   "metadata": {},
   "source": []
  },
  {
   "cell_type": "markdown",
   "metadata": {},
   "source": [
    "#### 2.3 What signs do you expect for $\\beta_1$? What is the economic explanation? (5 points)"
   ]
  },
  {
   "cell_type": "markdown",
   "metadata": {},
   "source": []
  },
  {
   "cell_type": "markdown",
   "metadata": {},
   "source": [
    "***\n",
    "## Question 3\n",
    "\n",
    "Use the data from \"*RENTAL.csv*\" to estimate the above model:\n",
    "$$rent = \\beta_0 + \\beta_1 avginc + u.$$"
   ]
  },
  {
   "cell_type": "markdown",
   "metadata": {},
   "source": [
    "#### 3.1 Estimate the model. (5 points)"
   ]
  },
  {
   "cell_type": "code",
   "execution_count": null,
   "metadata": {},
   "outputs": [],
   "source": []
  },
  {
   "cell_type": "markdown",
   "metadata": {},
   "source": [
    "#### Report the estimation results."
   ]
  },
  {
   "cell_type": "code",
   "execution_count": null,
   "metadata": {},
   "outputs": [],
   "source": []
  },
  {
   "cell_type": "markdown",
   "metadata": {},
   "source": [
    "#### 3.2 How would you interpret the coefficient estimate $\\hat{\\beta}_1$? (5 points)"
   ]
  },
  {
   "cell_type": "markdown",
   "metadata": {},
   "source": []
  },
  {
   "cell_type": "markdown",
   "metadata": {},
   "source": [
    "#### 3.3 Given that the per capita income is \\$18,912, what is the expected value of rent? (5 points)"
   ]
  },
  {
   "cell_type": "markdown",
   "metadata": {},
   "source": []
  },
  {
   "cell_type": "markdown",
   "metadata": {},
   "source": [
    "#### 3.3 What percentage of the variation in average rent is explained by the per capita income? (5 points)"
   ]
  },
  {
   "cell_type": "markdown",
   "metadata": {},
   "source": []
  },
  {
   "cell_type": "markdown",
   "metadata": {},
   "source": [
    "***\n",
    "## Question 4\n",
    "\n",
    "Alternatively, Use the data from \"*RENTAL.csv*\" to estimate the log-log model:\n",
    "$$\\log(rent) = \\beta_0 + \\beta_1 \\log(avginc) + u.$$"
   ]
  },
  {
   "cell_type": "markdown",
   "metadata": {},
   "source": [
    "#### 4.1 Estimate the model. (5 points)"
   ]
  },
  {
   "cell_type": "code",
   "execution_count": null,
   "metadata": {},
   "outputs": [],
   "source": []
  },
  {
   "cell_type": "markdown",
   "metadata": {},
   "source": [
    "#### Report the estimation results."
   ]
  },
  {
   "cell_type": "code",
   "execution_count": null,
   "metadata": {},
   "outputs": [],
   "source": []
  },
  {
   "cell_type": "markdown",
   "metadata": {},
   "source": [
    "#### 4.2 How would you interpret the coefficient estimate $\\hat{\\beta}_1$? (5 points)"
   ]
  },
  {
   "cell_type": "markdown",
   "metadata": {},
   "source": []
  },
  {
   "cell_type": "markdown",
   "metadata": {},
   "source": [
    "#### 4.3 In what situation the model specification in Question 4 is preferred to that in Question 3? (5 points)"
   ]
  },
  {
   "cell_type": "markdown",
   "metadata": {},
   "source": []
  },
  {
   "cell_type": "markdown",
   "metadata": {},
   "source": [
    "#### 4.4 What percentage of the variation in average rent is explained by the per capita income? (5 points)"
   ]
  },
  {
   "cell_type": "markdown",
   "metadata": {},
   "source": []
  },
  {
   "cell_type": "markdown",
   "metadata": {},
   "source": [
    "#### 4.5 Suggest a factor that is correlated with rent and also correlated with per capita income. Explain the economic intuition. (10 points)"
   ]
  },
  {
   "cell_type": "markdown",
   "metadata": {
    "tags": []
   },
   "source": []
  },
  {
   "cell_type": "markdown",
   "metadata": {},
   "source": [
    "#### 4.6 Does the factor mentioned in Question 4.4 violate the assumptions in simple linear regression? If so, which one and what is the consequence? (10 points)"
   ]
  },
  {
   "cell_type": "markdown",
   "metadata": {},
   "source": []
  },
  {
   "cell_type": "markdown",
   "metadata": {},
   "source": [
    "***\n",
    "## End of Assignment"
   ]
  }
 ],
 "metadata": {
  "kernelspec": {
   "display_name": "Python 3 (ipykernel)",
   "language": "python",
   "name": "python3"
  },
  "language_info": {
   "codemirror_mode": {
    "name": "ipython",
    "version": 3
   },
   "file_extension": ".py",
   "mimetype": "text/x-python",
   "name": "python",
   "nbconvert_exporter": "python",
   "pygments_lexer": "ipython3",
   "version": "3.13.1"
  }
 },
 "nbformat": 4,
 "nbformat_minor": 4
}
