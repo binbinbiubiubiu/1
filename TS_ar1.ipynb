{
 "cells": [
  {
   "cell_type": "markdown",
   "metadata": {},
   "source": [
    "## Introduction\n",
    "\n",
    "This in-class example demonstrates how to handle time trend, seasonality, and autoregressive processes.\n",
    "\n",
    "What you need to know:\n",
    "- Statsmodels and pandas modules in python\n",
    "- Theoretical concepts on time series regression model\n",
    "\n",
    "The list of [references](#References) for detailed concepts and techniques used in this exerise.\n",
    "***\n",
    "\n",
    "## Content\n",
    "- [Time trend and seasonality](#Time-Trend-and-Seasonality)\n",
    "- [Autoregressive process of order 1](#Autoregressive-Process-of-Order-1)\n",
    "- [Complete model with other exogenous regressors](#Complete-Model-with-other-Exogenous-Regressors)\n",
    "- [References](#References)\n"
   ]
  },
  {
   "cell_type": "markdown",
   "metadata": {},
   "source": [
    "***\n",
    "## Data Description\n",
    "\n",
    "The data set is contained in a comma-separated value (csv) file named ```CDN_hprice.csv``` with column headers. \n",
    "\n",
    "The data is a set of quarterly observations on a housing price index and other relevant variables in Canada for 1976 through 2019.\n",
    "\n",
    "This data set is obtained from [Federal Reserve Bank of Dallas's International House Price Database](https://www.dallasfed.org/institute/houseprice).\n",
    "\n",
    "Description of the data is as follow:\n",
    "\n",
    "| Variable name | Variable description |\n",
    "| -- | ----------- |\n",
    "| Year      | Year |\n",
    "| Quarter   | Quarter |\n",
    "| RHPI      | House Price Index (real) |\n",
    "| RPDI      | Personal disposable income (real) |\n",
    "| logRHPI   | log(RHPI)   |\n",
    "| logRPDI   | log(RPDI)   |\n",
    "| UE        | Unemployment rate (in percentage points) |\n",
    "| CPI       | Consumer Price Index |\n",
    "| TB10_rt   | 10-year treasury bond rate (nominal) |\n",
    "| RTB10_rt  | 10-year Treasury Bond rate (real) |\n"
   ]
  },
  {
   "cell_type": "markdown",
   "metadata": {},
   "source": [
    "***\n",
    "## Load the required modules"
   ]
  },
  {
   "cell_type": "code",
   "execution_count": 2,
   "metadata": {
    "execution": {
     "iopub.execute_input": "2025-02-21T05:47:33.202297Z",
     "iopub.status.busy": "2025-02-21T05:47:33.202106Z",
     "iopub.status.idle": "2025-02-21T05:47:34.353678Z",
     "shell.execute_reply": "2025-02-21T05:47:34.353096Z"
    },
    "ExecuteTime": {
     "end_time": "2025-04-10T10:13:14.626714400Z",
     "start_time": "2025-04-10T10:13:12.200894Z"
    }
   },
   "outputs": [],
   "source": [
    "import numpy as np\n",
    "import pandas as pd\n",
    "import statsmodels\n",
    "import statsmodels.api as sm\n",
    "import statsmodels.formula.api as smf\n",
    "import matplotlib.pyplot"
   ]
  },
  {
   "cell_type": "markdown",
   "metadata": {},
   "source": [
    "***\n",
    "## Import the data set\n",
    "\n",
    "#### Load the data set into Python"
   ]
  },
  {
   "cell_type": "code",
   "execution_count": 3,
   "metadata": {
    "ExecuteTime": {
     "end_time": "2025-04-10T10:13:20.868209600Z",
     "start_time": "2025-04-10T10:13:20.845755500Z"
    }
   },
   "outputs": [],
   "source": [
    "df = pd.read_csv('CDN_hprice.csv')"
   ]
  },
  {
   "cell_type": "markdown",
   "metadata": {},
   "source": [
    "***\n",
    "## Data preparation\n",
    "\n",
    "#### 1.1 Sort the data in ascending order by year and quarter"
   ]
  },
  {
   "cell_type": "code",
   "execution_count": 4,
   "metadata": {
    "ExecuteTime": {
     "end_time": "2025-04-10T10:13:31.024010100Z",
     "start_time": "2025-04-10T10:13:30.915131500Z"
    }
   },
   "outputs": [
    {
     "data": {
      "text/plain": "   Year Quarter   RHPI   RPDI  RTB10_rt     CPI  TB10_rt     UE  logRHPI  \\\n0  1976      Q1  58.98  74.11     0.835  24.414    9.327  6.867   4.0772   \n1  1976      Q2  59.81  75.93     2.535  24.783    9.270  7.167   4.0912   \n2  1976      Q3  58.82  73.23     2.885  25.125    8.937  7.367   4.0745   \n3  1976      Q4  57.63  75.18     1.919  25.652    8.610  7.733   4.0540   \n4  1977      Q1  55.78  74.07     0.943  26.310    8.783  7.867   4.0214   \n\n   logRPDI  \n0   4.3056  \n1   4.3298  \n2   4.2936  \n3   4.3199  \n4   4.3050  ",
      "text/html": "<div>\n<style scoped>\n    .dataframe tbody tr th:only-of-type {\n        vertical-align: middle;\n    }\n\n    .dataframe tbody tr th {\n        vertical-align: top;\n    }\n\n    .dataframe thead th {\n        text-align: right;\n    }\n</style>\n<table border=\"1\" class=\"dataframe\">\n  <thead>\n    <tr style=\"text-align: right;\">\n      <th></th>\n      <th>Year</th>\n      <th>Quarter</th>\n      <th>RHPI</th>\n      <th>RPDI</th>\n      <th>RTB10_rt</th>\n      <th>CPI</th>\n      <th>TB10_rt</th>\n      <th>UE</th>\n      <th>logRHPI</th>\n      <th>logRPDI</th>\n    </tr>\n  </thead>\n  <tbody>\n    <tr>\n      <th>0</th>\n      <td>1976</td>\n      <td>Q1</td>\n      <td>58.98</td>\n      <td>74.11</td>\n      <td>0.835</td>\n      <td>24.414</td>\n      <td>9.327</td>\n      <td>6.867</td>\n      <td>4.0772</td>\n      <td>4.3056</td>\n    </tr>\n    <tr>\n      <th>1</th>\n      <td>1976</td>\n      <td>Q2</td>\n      <td>59.81</td>\n      <td>75.93</td>\n      <td>2.535</td>\n      <td>24.783</td>\n      <td>9.270</td>\n      <td>7.167</td>\n      <td>4.0912</td>\n      <td>4.3298</td>\n    </tr>\n    <tr>\n      <th>2</th>\n      <td>1976</td>\n      <td>Q3</td>\n      <td>58.82</td>\n      <td>73.23</td>\n      <td>2.885</td>\n      <td>25.125</td>\n      <td>8.937</td>\n      <td>7.367</td>\n      <td>4.0745</td>\n      <td>4.2936</td>\n    </tr>\n    <tr>\n      <th>3</th>\n      <td>1976</td>\n      <td>Q4</td>\n      <td>57.63</td>\n      <td>75.18</td>\n      <td>1.919</td>\n      <td>25.652</td>\n      <td>8.610</td>\n      <td>7.733</td>\n      <td>4.0540</td>\n      <td>4.3199</td>\n    </tr>\n    <tr>\n      <th>4</th>\n      <td>1977</td>\n      <td>Q1</td>\n      <td>55.78</td>\n      <td>74.07</td>\n      <td>0.943</td>\n      <td>26.310</td>\n      <td>8.783</td>\n      <td>7.867</td>\n      <td>4.0214</td>\n      <td>4.3050</td>\n    </tr>\n  </tbody>\n</table>\n</div>"
     },
     "execution_count": 4,
     "metadata": {},
     "output_type": "execute_result"
    }
   ],
   "source": [
    "df = df.sort_values(by=['Year', 'Quarter'])\n",
    "\n",
    "df.head()"
   ]
  },
  {
   "cell_type": "markdown",
   "metadata": {},
   "source": [
    "#### 1.2 Generate time index\n",
    "\n",
    "Create new variable ```t``` such that $t=0$ in the first period. \n",
    "\n",
    "Note that we have repeated year and quarters. You can create the the required index by:\n",
    "1. Sorting the observations in ascending order, as you are asked to do in (1.1)\n",
    "2. Add a new column using the ```df.index``` method, where ```df``` is the name of the pandas dataframe"
   ]
  },
  {
   "cell_type": "code",
   "execution_count": 5,
   "metadata": {
    "ExecuteTime": {
     "end_time": "2025-04-10T10:15:23.384634100Z",
     "start_time": "2025-04-10T10:15:23.330915500Z"
    }
   },
   "outputs": [
    {
     "data": {
      "text/plain": "   Year Quarter  t\n0  1976      Q1  0\n1  1976      Q2  1\n2  1976      Q3  2\n3  1976      Q4  3\n4  1977      Q1  4",
      "text/html": "<div>\n<style scoped>\n    .dataframe tbody tr th:only-of-type {\n        vertical-align: middle;\n    }\n\n    .dataframe tbody tr th {\n        vertical-align: top;\n    }\n\n    .dataframe thead th {\n        text-align: right;\n    }\n</style>\n<table border=\"1\" class=\"dataframe\">\n  <thead>\n    <tr style=\"text-align: right;\">\n      <th></th>\n      <th>Year</th>\n      <th>Quarter</th>\n      <th>t</th>\n    </tr>\n  </thead>\n  <tbody>\n    <tr>\n      <th>0</th>\n      <td>1976</td>\n      <td>Q1</td>\n      <td>0</td>\n    </tr>\n    <tr>\n      <th>1</th>\n      <td>1976</td>\n      <td>Q2</td>\n      <td>1</td>\n    </tr>\n    <tr>\n      <th>2</th>\n      <td>1976</td>\n      <td>Q3</td>\n      <td>2</td>\n    </tr>\n    <tr>\n      <th>3</th>\n      <td>1976</td>\n      <td>Q4</td>\n      <td>3</td>\n    </tr>\n    <tr>\n      <th>4</th>\n      <td>1977</td>\n      <td>Q1</td>\n      <td>4</td>\n    </tr>\n  </tbody>\n</table>\n</div>"
     },
     "execution_count": 5,
     "metadata": {},
     "output_type": "execute_result"
    }
   ],
   "source": [
    "df['t'] = range(len(df))\n",
    "\n",
    "df[['Year', 'Quarter', 't']].head()"
   ]
  },
  {
   "cell_type": "markdown",
   "metadata": {},
   "source": [
    "#### 1.3 Generate lag variable\n",
    "\n",
    "Here we create lag variables with a lag of **4** period. That is, in quarterly frequency, the lag variable is in the *same* quarter but *different* year.\n",
    "\n",
    "Create a new column in the date set named ```logRHPI_4```, such that $\\text{logRHPI}\\_4 = \\log(\\textit{RHPI}_{t-4})$ "
   ]
  },
  {
   "cell_type": "code",
   "execution_count": 7,
   "metadata": {
    "ExecuteTime": {
     "end_time": "2025-04-10T10:17:41.445474200Z",
     "start_time": "2025-04-10T10:17:41.399334200Z"
    }
   },
   "outputs": [
    {
     "data": {
      "text/plain": "    Year Quarter  logRHPI  logRHPI_4\n0   1976      Q1   4.0772        NaN\n1   1976      Q2   4.0912        NaN\n2   1976      Q3   4.0745        NaN\n3   1976      Q4   4.0540        NaN\n4   1977      Q1   4.0214     4.0772\n5   1977      Q2   4.0110     4.0912\n6   1977      Q3   3.9973     4.0745\n7   1977      Q4   4.0273     4.0540\n8   1978      Q1   4.0205     4.0214\n9   1978      Q2   4.0261     4.0110\n10  1978      Q3   4.0257     3.9973\n11  1978      Q4   4.0122     4.0273\n12  1979      Q1   4.0139     4.0205\n13  1979      Q2   4.0286     4.0261\n14  1979      Q3   4.0518     4.0257\n15  1979      Q4   4.0733     4.0122\n16  1980      Q1   4.0967     4.0139\n17  1980      Q2   4.1236     4.0286\n18  1980      Q3   4.1439     4.0518\n19  1980      Q4   4.1874     4.0733",
      "text/html": "<div>\n<style scoped>\n    .dataframe tbody tr th:only-of-type {\n        vertical-align: middle;\n    }\n\n    .dataframe tbody tr th {\n        vertical-align: top;\n    }\n\n    .dataframe thead th {\n        text-align: right;\n    }\n</style>\n<table border=\"1\" class=\"dataframe\">\n  <thead>\n    <tr style=\"text-align: right;\">\n      <th></th>\n      <th>Year</th>\n      <th>Quarter</th>\n      <th>logRHPI</th>\n      <th>logRHPI_4</th>\n    </tr>\n  </thead>\n  <tbody>\n    <tr>\n      <th>0</th>\n      <td>1976</td>\n      <td>Q1</td>\n      <td>4.0772</td>\n      <td>NaN</td>\n    </tr>\n    <tr>\n      <th>1</th>\n      <td>1976</td>\n      <td>Q2</td>\n      <td>4.0912</td>\n      <td>NaN</td>\n    </tr>\n    <tr>\n      <th>2</th>\n      <td>1976</td>\n      <td>Q3</td>\n      <td>4.0745</td>\n      <td>NaN</td>\n    </tr>\n    <tr>\n      <th>3</th>\n      <td>1976</td>\n      <td>Q4</td>\n      <td>4.0540</td>\n      <td>NaN</td>\n    </tr>\n    <tr>\n      <th>4</th>\n      <td>1977</td>\n      <td>Q1</td>\n      <td>4.0214</td>\n      <td>4.0772</td>\n    </tr>\n    <tr>\n      <th>5</th>\n      <td>1977</td>\n      <td>Q2</td>\n      <td>4.0110</td>\n      <td>4.0912</td>\n    </tr>\n    <tr>\n      <th>6</th>\n      <td>1977</td>\n      <td>Q3</td>\n      <td>3.9973</td>\n      <td>4.0745</td>\n    </tr>\n    <tr>\n      <th>7</th>\n      <td>1977</td>\n      <td>Q4</td>\n      <td>4.0273</td>\n      <td>4.0540</td>\n    </tr>\n    <tr>\n      <th>8</th>\n      <td>1978</td>\n      <td>Q1</td>\n      <td>4.0205</td>\n      <td>4.0214</td>\n    </tr>\n    <tr>\n      <th>9</th>\n      <td>1978</td>\n      <td>Q2</td>\n      <td>4.0261</td>\n      <td>4.0110</td>\n    </tr>\n    <tr>\n      <th>10</th>\n      <td>1978</td>\n      <td>Q3</td>\n      <td>4.0257</td>\n      <td>3.9973</td>\n    </tr>\n    <tr>\n      <th>11</th>\n      <td>1978</td>\n      <td>Q4</td>\n      <td>4.0122</td>\n      <td>4.0273</td>\n    </tr>\n    <tr>\n      <th>12</th>\n      <td>1979</td>\n      <td>Q1</td>\n      <td>4.0139</td>\n      <td>4.0205</td>\n    </tr>\n    <tr>\n      <th>13</th>\n      <td>1979</td>\n      <td>Q2</td>\n      <td>4.0286</td>\n      <td>4.0261</td>\n    </tr>\n    <tr>\n      <th>14</th>\n      <td>1979</td>\n      <td>Q3</td>\n      <td>4.0518</td>\n      <td>4.0257</td>\n    </tr>\n    <tr>\n      <th>15</th>\n      <td>1979</td>\n      <td>Q4</td>\n      <td>4.0733</td>\n      <td>4.0122</td>\n    </tr>\n    <tr>\n      <th>16</th>\n      <td>1980</td>\n      <td>Q1</td>\n      <td>4.0967</td>\n      <td>4.0139</td>\n    </tr>\n    <tr>\n      <th>17</th>\n      <td>1980</td>\n      <td>Q2</td>\n      <td>4.1236</td>\n      <td>4.0286</td>\n    </tr>\n    <tr>\n      <th>18</th>\n      <td>1980</td>\n      <td>Q3</td>\n      <td>4.1439</td>\n      <td>4.0518</td>\n    </tr>\n    <tr>\n      <th>19</th>\n      <td>1980</td>\n      <td>Q4</td>\n      <td>4.1874</td>\n      <td>4.0733</td>\n    </tr>\n  </tbody>\n</table>\n</div>"
     },
     "execution_count": 7,
     "metadata": {},
     "output_type": "execute_result"
    }
   ],
   "source": [
    "df['logRHPI_4'] = df['logRHPI'].shift(4)\n",
    "\n",
    "df[['Year', 'Quarter', 'logRHPI', 'logRHPI_4']].head(20)"
   ]
  },
  {
   "cell_type": "markdown",
   "metadata": {},
   "source": [
    "Create a new column in the date set named ```logRPDI_4```, such that $\\text{logRPDI}\\_4 = \\log(\\textit{RPDI}_{t-4})$ "
   ]
  },
  {
   "cell_type": "code",
   "execution_count": 8,
   "metadata": {
    "ExecuteTime": {
     "end_time": "2025-04-10T10:19:45.197410300Z",
     "start_time": "2025-04-10T10:19:45.164764Z"
    }
   },
   "outputs": [
    {
     "data": {
      "text/plain": "    Year Quarter  logRPDI  logRPDI_4\n0   1976      Q1   4.3056        NaN\n1   1976      Q2   4.3298        NaN\n2   1976      Q3   4.2936        NaN\n3   1976      Q4   4.3199        NaN\n4   1977      Q1   4.3050     4.3056\n5   1977      Q2   4.3190     4.3298\n6   1977      Q3   4.3010     4.2936\n7   1977      Q4   4.3086     4.3199\n8   1978      Q1   4.3370     4.3050\n9   1978      Q2   4.3268     4.3190\n10  1978      Q3   4.3187     4.3010\n11  1978      Q4   4.3229     4.3086\n12  1979      Q1   4.3208     4.3370\n13  1979      Q2   4.3445     4.3268\n14  1979      Q3   4.3320     4.3187\n15  1979      Q4   4.3416     4.3229\n16  1980      Q1   4.3402     4.3208\n17  1980      Q2   4.3400     4.3445\n18  1980      Q3   4.3409     4.3320\n19  1980      Q4   4.3512     4.3416",
      "text/html": "<div>\n<style scoped>\n    .dataframe tbody tr th:only-of-type {\n        vertical-align: middle;\n    }\n\n    .dataframe tbody tr th {\n        vertical-align: top;\n    }\n\n    .dataframe thead th {\n        text-align: right;\n    }\n</style>\n<table border=\"1\" class=\"dataframe\">\n  <thead>\n    <tr style=\"text-align: right;\">\n      <th></th>\n      <th>Year</th>\n      <th>Quarter</th>\n      <th>logRPDI</th>\n      <th>logRPDI_4</th>\n    </tr>\n  </thead>\n  <tbody>\n    <tr>\n      <th>0</th>\n      <td>1976</td>\n      <td>Q1</td>\n      <td>4.3056</td>\n      <td>NaN</td>\n    </tr>\n    <tr>\n      <th>1</th>\n      <td>1976</td>\n      <td>Q2</td>\n      <td>4.3298</td>\n      <td>NaN</td>\n    </tr>\n    <tr>\n      <th>2</th>\n      <td>1976</td>\n      <td>Q3</td>\n      <td>4.2936</td>\n      <td>NaN</td>\n    </tr>\n    <tr>\n      <th>3</th>\n      <td>1976</td>\n      <td>Q4</td>\n      <td>4.3199</td>\n      <td>NaN</td>\n    </tr>\n    <tr>\n      <th>4</th>\n      <td>1977</td>\n      <td>Q1</td>\n      <td>4.3050</td>\n      <td>4.3056</td>\n    </tr>\n    <tr>\n      <th>5</th>\n      <td>1977</td>\n      <td>Q2</td>\n      <td>4.3190</td>\n      <td>4.3298</td>\n    </tr>\n    <tr>\n      <th>6</th>\n      <td>1977</td>\n      <td>Q3</td>\n      <td>4.3010</td>\n      <td>4.2936</td>\n    </tr>\n    <tr>\n      <th>7</th>\n      <td>1977</td>\n      <td>Q4</td>\n      <td>4.3086</td>\n      <td>4.3199</td>\n    </tr>\n    <tr>\n      <th>8</th>\n      <td>1978</td>\n      <td>Q1</td>\n      <td>4.3370</td>\n      <td>4.3050</td>\n    </tr>\n    <tr>\n      <th>9</th>\n      <td>1978</td>\n      <td>Q2</td>\n      <td>4.3268</td>\n      <td>4.3190</td>\n    </tr>\n    <tr>\n      <th>10</th>\n      <td>1978</td>\n      <td>Q3</td>\n      <td>4.3187</td>\n      <td>4.3010</td>\n    </tr>\n    <tr>\n      <th>11</th>\n      <td>1978</td>\n      <td>Q4</td>\n      <td>4.3229</td>\n      <td>4.3086</td>\n    </tr>\n    <tr>\n      <th>12</th>\n      <td>1979</td>\n      <td>Q1</td>\n      <td>4.3208</td>\n      <td>4.3370</td>\n    </tr>\n    <tr>\n      <th>13</th>\n      <td>1979</td>\n      <td>Q2</td>\n      <td>4.3445</td>\n      <td>4.3268</td>\n    </tr>\n    <tr>\n      <th>14</th>\n      <td>1979</td>\n      <td>Q3</td>\n      <td>4.3320</td>\n      <td>4.3187</td>\n    </tr>\n    <tr>\n      <th>15</th>\n      <td>1979</td>\n      <td>Q4</td>\n      <td>4.3416</td>\n      <td>4.3229</td>\n    </tr>\n    <tr>\n      <th>16</th>\n      <td>1980</td>\n      <td>Q1</td>\n      <td>4.3402</td>\n      <td>4.3208</td>\n    </tr>\n    <tr>\n      <th>17</th>\n      <td>1980</td>\n      <td>Q2</td>\n      <td>4.3400</td>\n      <td>4.3445</td>\n    </tr>\n    <tr>\n      <th>18</th>\n      <td>1980</td>\n      <td>Q3</td>\n      <td>4.3409</td>\n      <td>4.3320</td>\n    </tr>\n    <tr>\n      <th>19</th>\n      <td>1980</td>\n      <td>Q4</td>\n      <td>4.3512</td>\n      <td>4.3416</td>\n    </tr>\n  </tbody>\n</table>\n</div>"
     },
     "execution_count": 8,
     "metadata": {},
     "output_type": "execute_result"
    }
   ],
   "source": [
    "df['logRPDI_4'] = df['logRPDI'].shift(4)\n",
    "\n",
    "df[['Year', 'Quarter', 'logRPDI', 'logRPDI_4']].head(20)"
   ]
  },
  {
   "cell_type": "markdown",
   "metadata": {},
   "source": [
    "#### 1.4 Generate \"*first-differencing*\" variables\n",
    "\n",
    "It is also known as the year-over-year difference, because we take the difference between now and 4 quarters (a year) ago. \n",
    "\n",
    "E.g. we are calulating the change from 2018 Q1 to 2019 Q1. \n",
    "\n",
    "Create a new column named ```gRHPI```, such that $\\text{gRHPI} = \\Delta \\log(\\textit{RHPI}_t) = \\log(\\textit{RHPI}_t) - \\log(\\textit{RHPI}_{t-4})$"
   ]
  },
  {
   "cell_type": "code",
   "execution_count": 9,
   "metadata": {
    "ExecuteTime": {
     "end_time": "2025-04-10T10:20:37.157048400Z",
     "start_time": "2025-04-10T10:20:37.116123900Z"
    }
   },
   "outputs": [
    {
     "data": {
      "text/plain": "    Year Quarter  logRHPI  logRHPI_4   gRHPI\n0   1976      Q1   4.0772        NaN     NaN\n1   1976      Q2   4.0912        NaN     NaN\n2   1976      Q3   4.0745        NaN     NaN\n3   1976      Q4   4.0540        NaN     NaN\n4   1977      Q1   4.0214     4.0772 -0.0558\n5   1977      Q2   4.0110     4.0912 -0.0802\n6   1977      Q3   3.9973     4.0745 -0.0772\n7   1977      Q4   4.0273     4.0540 -0.0267\n8   1978      Q1   4.0205     4.0214 -0.0009\n9   1978      Q2   4.0261     4.0110  0.0151\n10  1978      Q3   4.0257     3.9973  0.0284\n11  1978      Q4   4.0122     4.0273 -0.0151\n12  1979      Q1   4.0139     4.0205 -0.0066\n13  1979      Q2   4.0286     4.0261  0.0025\n14  1979      Q3   4.0518     4.0257  0.0261\n15  1979      Q4   4.0733     4.0122  0.0611\n16  1980      Q1   4.0967     4.0139  0.0828\n17  1980      Q2   4.1236     4.0286  0.0950\n18  1980      Q3   4.1439     4.0518  0.0921\n19  1980      Q4   4.1874     4.0733  0.1141",
      "text/html": "<div>\n<style scoped>\n    .dataframe tbody tr th:only-of-type {\n        vertical-align: middle;\n    }\n\n    .dataframe tbody tr th {\n        vertical-align: top;\n    }\n\n    .dataframe thead th {\n        text-align: right;\n    }\n</style>\n<table border=\"1\" class=\"dataframe\">\n  <thead>\n    <tr style=\"text-align: right;\">\n      <th></th>\n      <th>Year</th>\n      <th>Quarter</th>\n      <th>logRHPI</th>\n      <th>logRHPI_4</th>\n      <th>gRHPI</th>\n    </tr>\n  </thead>\n  <tbody>\n    <tr>\n      <th>0</th>\n      <td>1976</td>\n      <td>Q1</td>\n      <td>4.0772</td>\n      <td>NaN</td>\n      <td>NaN</td>\n    </tr>\n    <tr>\n      <th>1</th>\n      <td>1976</td>\n      <td>Q2</td>\n      <td>4.0912</td>\n      <td>NaN</td>\n      <td>NaN</td>\n    </tr>\n    <tr>\n      <th>2</th>\n      <td>1976</td>\n      <td>Q3</td>\n      <td>4.0745</td>\n      <td>NaN</td>\n      <td>NaN</td>\n    </tr>\n    <tr>\n      <th>3</th>\n      <td>1976</td>\n      <td>Q4</td>\n      <td>4.0540</td>\n      <td>NaN</td>\n      <td>NaN</td>\n    </tr>\n    <tr>\n      <th>4</th>\n      <td>1977</td>\n      <td>Q1</td>\n      <td>4.0214</td>\n      <td>4.0772</td>\n      <td>-0.0558</td>\n    </tr>\n    <tr>\n      <th>5</th>\n      <td>1977</td>\n      <td>Q2</td>\n      <td>4.0110</td>\n      <td>4.0912</td>\n      <td>-0.0802</td>\n    </tr>\n    <tr>\n      <th>6</th>\n      <td>1977</td>\n      <td>Q3</td>\n      <td>3.9973</td>\n      <td>4.0745</td>\n      <td>-0.0772</td>\n    </tr>\n    <tr>\n      <th>7</th>\n      <td>1977</td>\n      <td>Q4</td>\n      <td>4.0273</td>\n      <td>4.0540</td>\n      <td>-0.0267</td>\n    </tr>\n    <tr>\n      <th>8</th>\n      <td>1978</td>\n      <td>Q1</td>\n      <td>4.0205</td>\n      <td>4.0214</td>\n      <td>-0.0009</td>\n    </tr>\n    <tr>\n      <th>9</th>\n      <td>1978</td>\n      <td>Q2</td>\n      <td>4.0261</td>\n      <td>4.0110</td>\n      <td>0.0151</td>\n    </tr>\n    <tr>\n      <th>10</th>\n      <td>1978</td>\n      <td>Q3</td>\n      <td>4.0257</td>\n      <td>3.9973</td>\n      <td>0.0284</td>\n    </tr>\n    <tr>\n      <th>11</th>\n      <td>1978</td>\n      <td>Q4</td>\n      <td>4.0122</td>\n      <td>4.0273</td>\n      <td>-0.0151</td>\n    </tr>\n    <tr>\n      <th>12</th>\n      <td>1979</td>\n      <td>Q1</td>\n      <td>4.0139</td>\n      <td>4.0205</td>\n      <td>-0.0066</td>\n    </tr>\n    <tr>\n      <th>13</th>\n      <td>1979</td>\n      <td>Q2</td>\n      <td>4.0286</td>\n      <td>4.0261</td>\n      <td>0.0025</td>\n    </tr>\n    <tr>\n      <th>14</th>\n      <td>1979</td>\n      <td>Q3</td>\n      <td>4.0518</td>\n      <td>4.0257</td>\n      <td>0.0261</td>\n    </tr>\n    <tr>\n      <th>15</th>\n      <td>1979</td>\n      <td>Q4</td>\n      <td>4.0733</td>\n      <td>4.0122</td>\n      <td>0.0611</td>\n    </tr>\n    <tr>\n      <th>16</th>\n      <td>1980</td>\n      <td>Q1</td>\n      <td>4.0967</td>\n      <td>4.0139</td>\n      <td>0.0828</td>\n    </tr>\n    <tr>\n      <th>17</th>\n      <td>1980</td>\n      <td>Q2</td>\n      <td>4.1236</td>\n      <td>4.0286</td>\n      <td>0.0950</td>\n    </tr>\n    <tr>\n      <th>18</th>\n      <td>1980</td>\n      <td>Q3</td>\n      <td>4.1439</td>\n      <td>4.0518</td>\n      <td>0.0921</td>\n    </tr>\n    <tr>\n      <th>19</th>\n      <td>1980</td>\n      <td>Q4</td>\n      <td>4.1874</td>\n      <td>4.0733</td>\n      <td>0.1141</td>\n    </tr>\n  </tbody>\n</table>\n</div>"
     },
     "execution_count": 9,
     "metadata": {},
     "output_type": "execute_result"
    }
   ],
   "source": [
    "df['gRHPI'] = df['logRHPI'] - df['logRHPI_4']\n",
    "\n",
    "df[['Year', 'Quarter', 'logRHPI', 'logRHPI_4', 'gRHPI']].head(20)"
   ]
  },
  {
   "cell_type": "markdown",
   "metadata": {},
   "source": [
    "#### 1.5 Plot the time series for log(RHPI) and growth rate of RHPI"
   ]
  },
  {
   "cell_type": "code",
   "execution_count": 17,
   "metadata": {
    "ExecuteTime": {
     "end_time": "2025-04-10T10:32:47.983790700Z",
     "start_time": "2025-04-10T10:32:47.736538Z"
    }
   },
   "outputs": [
    {
     "data": {
      "text/plain": "<Figure size 864x576 with 2 Axes>",
      "image/png": "[encoded data removed]"
     },
     "metadata": {
      "needs_background": "light"
     },
     "output_type": "display_data"
    }
   ],
   "source": [
    "fig, axes = matplotlib.pyplot.subplots(2, 1, figsize=(12, 8))\n",
    "\n",
    "axes[0].plot(df['t'], df['logRHPI'])\n",
    "axes[0].set_title('Log of Real House Price Index (logRHPI)')\n",
    "axes[0].set_xlabel('Time Index')\n",
    "axes[0].set_ylabel('logRHPI')\n",
    "axes[0].grid(True)\n",
    "\n",
    "axes[1].plot(df['t'][4:], df['gRHPI'][4:])  \n",
    "axes[1].set_title('Growth Rate of Real House Price Index (gRHPI)')\n",
    "axes[1].set_xlabel('Time Index')\n",
    "axes[1].set_ylabel('gRHPI')\n",
    "axes[1].grid(True)\n",
    "\n",
    "matplotlib.pyplot.tight_layout()\n",
    "matplotlib.pyplot.show()"
   ]
  },
  {
   "cell_type": "markdown",
   "metadata": {},
   "source": [
    "***\n",
    "## Time Trend and Seasonality\n",
    "\n",
    "Consider the following model for house price growth:\n",
    "$$\\log(\\textit{RHPI}_t) = \\beta_0 + \\beta_1 t + \\delta_1 Q2 + \\delta_2 Q3 + \\delta_3 Q4 + u_t$$\n",
    "\n",
    "- $t = 0, 1, 2, \\ldots$ is the time index you created in (1.2)\n",
    "- Q2, Q3, Q4 are dummy variables that equals to 1 in the second, third, and fourth quarter, respectively. Otherwise, they are equal to 0. "
   ]
  },
  {
   "cell_type": "markdown",
   "metadata": {},
   "source": [
    "#### 2.1 Estimate the model"
   ]
  },
  {
   "cell_type": "code",
   "execution_count": 11,
   "metadata": {
    "ExecuteTime": {
     "end_time": "2025-04-10T10:23:59.188549500Z",
     "start_time": "2025-04-10T10:23:59.168974100Z"
    }
   },
   "outputs": [],
   "source": [
    "df['Q2'] = (df['Quarter'] == 'Q2').astype(int)\n",
    "df['Q3'] = (df['Quarter'] == 'Q3').astype(int)\n",
    "df['Q4'] = (df['Quarter'] == 'Q4').astype(int)\n",
    "\n",
    "model1 = smf.ols(formula='logRHPI ~ t + Q2 + Q3 + Q4', data=df)\n",
    "results1 = model1.fit()"
   ]
  },
  {
   "cell_type": "markdown",
   "metadata": {},
   "source": [
    "#### 2.2 Get the estimation results"
   ]
  },
  {
   "cell_type": "code",
   "execution_count": 12,
   "metadata": {
    "ExecuteTime": {
     "end_time": "2025-04-10T10:25:09.371761Z",
     "start_time": "2025-04-10T10:25:09.306024400Z"
    }
   },
   "outputs": [
    {
     "name": "stdout",
     "output_type": "stream",
     "text": [
      "                            OLS Regression Results                            \n",
      "==============================================================================\n",
      "Dep. Variable:                logRHPI   R-squared:                       0.852\n",
      "Model:                            OLS   Adj. R-squared:                  0.848\n",
      "Method:                 Least Squares   F-statistic:                     245.2\n",
      "Date:                Thu, 10 Apr 2025   Prob (F-statistic):           1.10e-69\n",
      "Time:                        18:25:09   Log-Likelihood:                 96.886\n",
      "No. Observations:                 176   AIC:                            -183.8\n",
      "Df Residuals:                     171   BIC:                            -167.9\n",
      "Df Model:                           4                                         \n",
      "Covariance Type:            nonrobust                                         \n",
      "==============================================================================\n",
      "                 coef    std err          t      P>|t|      [0.025      0.975]\n",
      "------------------------------------------------------------------------------\n",
      "Intercept      3.9058      0.028    139.683      0.000       3.851       3.961\n",
      "t              0.0066      0.000     31.307      0.000       0.006       0.007\n",
      "Q2             0.0108      0.030      0.358      0.721      -0.049       0.070\n",
      "Q3             0.0080      0.030      0.266      0.790      -0.052       0.068\n",
      "Q4            -0.0011      0.030     -0.036      0.971      -0.061       0.059\n",
      "==============================================================================\n",
      "Omnibus:                        5.920   Durbin-Watson:                   0.028\n",
      "Prob(Omnibus):                  0.052   Jarque-Bera (JB):                3.628\n",
      "Skew:                          -0.162   Prob(JB):                        0.163\n",
      "Kurtosis:                       2.376   Cond. No.                         448.\n",
      "==============================================================================\n",
      "\n",
      "Notes:\n",
      "[1] Standard Errors assume that the covariance matrix of the errors is correctly specified.\n"
     ]
    }
   ],
   "source": [
    "print(results1.summary())"
   ]
  },
  {
   "cell_type": "markdown",
   "metadata": {},
   "source": [
    "#### 2.3 What is the benchmark (base period) in this model?"
   ]
  },
  {
   "cell_type": "markdown",
   "metadata": {},
   "source": [
    "The benchmark (base period) in this model is the first quarter (Q1) of each year. This is because we included dummy variables for Q2, Q3, and Q4, but not for Q1. Therefore, when all quarter dummies are zero, we are in Q1, which serves as the reference category."
   ]
  },
  {
   "cell_type": "markdown",
   "metadata": {},
   "source": [
    "#### 2.4 At 5% significance level, is there a statistically significant time trend?"
   ]
  },
  {
   "cell_type": "markdown",
   "metadata": {},
   "source": [
    "At the 5% significance level, there is a statistically significant time trend in house prices. The time variable 't' has a coefficient of 0.0066 with a p-value of 0.000, which is well below the 0.05 threshold. This positive coefficient indicates that house prices have been consistently increasing over time at a rate of approximately 0.66% per quarter."
   ]
  },
  {
   "cell_type": "markdown",
   "metadata": {},
   "source": [
    "#### 2.5 At 5% significance level, would you conclude that house price growth exhibits seasonality at quarterly frequency?"
   ]
  },
  {
   "cell_type": "markdown",
   "metadata": {},
   "source": [
    "Based on the regression results, I would conclude that house price growth does not exhibit seasonality at quarterly frequency at the 5% significance level. The p-values for all quarterly dummy variables (Q2, Q3, and Q4) are 0.721, 0.790, and 0.971 respectively, all well above the 0.05 threshold. These high p-values indicate that the seasonal effects are not statistically significant, meaning there is insufficient evidence to suggest that house prices systematically vary by quarter throughout the year."
   ]
  },
  {
   "cell_type": "markdown",
   "metadata": {},
   "source": [
    "***\n",
    "## Autoregressive Process of Order 1\n",
    "\n",
    "Consider a house price model with AR(1) specification:\n",
    "$$\\log(\\textit{RHPI}_t) = \\beta_0 + \\beta_1 t + \\beta_2 \\log(\\textit{RHPI}_{t-4}) + \\delta_1 Q2 + \\delta_2 Q3 + \\delta_3 Q4 + u_t$$"
   ]
  },
  {
   "cell_type": "markdown",
   "metadata": {},
   "source": [
    "#### 3.1 Estimate the model"
   ]
  },
  {
   "cell_type": "code",
   "execution_count": 13,
   "metadata": {
    "ExecuteTime": {
     "end_time": "2025-04-10T10:26:26.458428400Z",
     "start_time": "2025-04-10T10:26:26.424485300Z"
    }
   },
   "outputs": [],
   "source": [
    "df_ar1 = df.dropna(subset=['logRHPI_4'])\n",
    "model2 = smf.ols(formula='logRHPI ~ t + logRHPI_4 + Q2 + Q3 + Q4', data=df_ar1)\n",
    "results2 = model2.fit()"
   ]
  },
  {
   "cell_type": "markdown",
   "metadata": {},
   "source": [
    "#### 3.2 Get the estimation results"
   ]
  },
  {
   "cell_type": "code",
   "execution_count": 14,
   "metadata": {
    "ExecuteTime": {
     "end_time": "2025-04-10T10:26:30.442732400Z",
     "start_time": "2025-04-10T10:26:30.388867700Z"
    }
   },
   "outputs": [
    {
     "name": "stdout",
     "output_type": "stream",
     "text": [
      "                            OLS Regression Results                            \n",
      "==============================================================================\n",
      "Dep. Variable:                logRHPI   R-squared:                       0.964\n",
      "Model:                            OLS   Adj. R-squared:                  0.963\n",
      "Method:                 Least Squares   F-statistic:                     885.5\n",
      "Date:                Thu, 10 Apr 2025   Prob (F-statistic):          1.13e-117\n",
      "Time:                        18:26:30   Log-Likelihood:                 216.85\n",
      "No. Observations:                 172   AIC:                            -421.7\n",
      "Df Residuals:                     166   BIC:                            -402.8\n",
      "Df Model:                           5                                         \n",
      "Covariance Type:            nonrobust                                         \n",
      "==============================================================================\n",
      "                 coef    std err          t      P>|t|      [0.025      0.975]\n",
      "------------------------------------------------------------------------------\n",
      "Intercept      0.5081      0.150      3.395      0.001       0.213       0.804\n",
      "t              0.0011      0.000      4.069      0.000       0.001       0.002\n",
      "logRHPI_4      0.8701      0.038     22.705      0.000       0.794       0.946\n",
      "Q2             0.0011      0.015      0.073      0.942      -0.029       0.031\n",
      "Q3             0.0010      0.015      0.066      0.947      -0.029       0.031\n",
      "Q4          4.208e-05      0.015      0.003      0.998      -0.030       0.030\n",
      "==============================================================================\n",
      "Omnibus:                       19.320   Durbin-Watson:                   0.186\n",
      "Prob(Omnibus):                  0.000   Jarque-Bera (JB):               40.658\n",
      "Skew:                           0.495   Prob(JB):                     1.48e-09\n",
      "Kurtosis:                       5.167   Cond. No.                     2.97e+03\n",
      "==============================================================================\n",
      "\n",
      "Notes:\n",
      "[1] Standard Errors assume that the covariance matrix of the errors is correctly specified.\n",
      "[2] The condition number is large, 2.97e+03. This might indicate that there are\n",
      "strong multicollinearity or other numerical problems.\n"
     ]
    }
   ],
   "source": [
    "print(results2.summary())"
   ]
  },
  {
   "cell_type": "markdown",
   "metadata": {},
   "source": [
    "#### 3.3 At 5% significance level, what would you conclude about $\\beta_2$?"
   ]
  },
  {
   "cell_type": "markdown",
   "metadata": {},
   "source": [
    "At the 5% significance level, I would conclude that $\\beta_2$ (the coefficient of logRHPI_4) is statistically significant. The regression results show that $\\beta_2$ has a value of 0.8701 with a very small p-value of 0.000, which is well below the 0.05 threshold. This provides strong evidence to reject the null hypothesis that $\\beta_2$ equals zero. The high t-statistic of 22.705 further confirms this significance. This finding indicates that house prices exhibit strong autoregressive behavior, where prices from one year ago (four quarters) significantly influence current prices. The large positive coefficient (0.8701) suggests substantial persistence in housing prices, meaning that approximately 87% of the previous year's price level is reflected in the current price level, demonstrating considerable inertia in the housing market."
   ]
  },
  {
   "cell_type": "markdown",
   "metadata": {},
   "source": [
    "#### 3.4 Does the AR(1) process have weak dependence?"
   ]
  },
  {
   "cell_type": "markdown",
   "metadata": {},
   "source": [
    "At the 5% significance level, the AR(1) process exhibits weak dependence. The coefficient for logRHPI_4 ($\\beta_2$) is 0.8701, which is positive and statistically significant (p-value = 0.000), but importantly, its absolute value is less than 1. For an AR(1) process to have weak dependence, the absolute value of the autoregressive coefficient must be less than 1 (|$\\beta_2$| < 1), which is satisfied in this case. This indicates that the process is stationary and that shocks to housing prices will eventually dissipate over time rather than having permanent effects. The closer this coefficient is to 1, the more persistent the effects of shocks, and at 0.8701, it suggests considerable persistence but ultimately a return to equilibrium."
   ]
  },
  {
   "cell_type": "markdown",
   "metadata": {},
   "source": [
    "#### 3.5 Is the time trend still significant? Why or why not?"
   ]
  },
  {
   "cell_type": "markdown",
   "metadata": {},
   "source": [
    "Yes, the time trend remains statistically significant, though its magnitude has decreased from 0.0066 to 0.0011. The p-value of 0.000 is still well below the 0.05 threshold. This reduction occurs because the autoregressive term (logRHPI_4) now captures much of the persistence in house prices that was previously attributed to the time trend. The continued significance of the time variable indicates that housing prices exhibit a genuine long-term upward trend independent of their autoregressive properties."
   ]
  },
  {
   "cell_type": "markdown",
   "metadata": {},
   "source": [
    "***\n",
    "## Complete Model with other Exogenous Regressors\n",
    "\n",
    "Consider a house price model with AR(1) specification and other exogenous regressors:\n",
    "$$\\log(\\textit{RHPI}_t) = \\beta_0 + \\beta_1 t + \\beta_2 \\log(\\textit{RHPI}_{t-4}) + \\beta_3 \\textit{UE}_t + \\beta_4 \\log(\\textit{RPDI}_t) + \\delta_1 Q2 + \\delta_2 Q3 + \\delta_3 Q4 + u_t$$"
   ]
  },
  {
   "cell_type": "markdown",
   "metadata": {},
   "source": [
    "#### 4.1 Estimate the model"
   ]
  },
  {
   "cell_type": "code",
   "execution_count": 15,
   "metadata": {
    "ExecuteTime": {
     "end_time": "2025-04-10T10:26:56.541432700Z",
     "start_time": "2025-04-10T10:26:56.524330300Z"
    }
   },
   "outputs": [],
   "source": [
    "model3 = smf.ols(formula='logRHPI ~ t + logRHPI_4 + UE + logRPDI + Q2 + Q3 + Q4', data=df_ar1)\n",
    "results3 = model3.fit()"
   ]
  },
  {
   "cell_type": "markdown",
   "metadata": {},
   "source": [
    "#### 4.2 Get the estimation results"
   ]
  },
  {
   "cell_type": "code",
   "execution_count": 16,
   "metadata": {
    "ExecuteTime": {
     "end_time": "2025-04-10T10:27:00.723585400Z",
     "start_time": "2025-04-10T10:27:00.684165800Z"
    }
   },
   "outputs": [
    {
     "name": "stdout",
     "output_type": "stream",
     "text": [
      "                            OLS Regression Results                            \n",
      "==============================================================================\n",
      "Dep. Variable:                logRHPI   R-squared:                       0.980\n",
      "Model:                            OLS   Adj. R-squared:                  0.979\n",
      "Method:                 Least Squares   F-statistic:                     1162.\n",
      "Date:                Thu, 10 Apr 2025   Prob (F-statistic):          3.45e-136\n",
      "Time:                        18:27:00   Log-Likelihood:                 268.72\n",
      "No. Observations:                 172   AIC:                            -521.4\n",
      "Df Residuals:                     164   BIC:                            -496.3\n",
      "Df Model:                           7                                         \n",
      "Covariance Type:            nonrobust                                         \n",
      "==============================================================================\n",
      "                 coef    std err          t      P>|t|      [0.025      0.975]\n",
      "------------------------------------------------------------------------------\n",
      "Intercept     -2.7270      0.632     -4.316      0.000      -3.975      -1.480\n",
      "t             -0.0014      0.000     -3.744      0.000      -0.002      -0.001\n",
      "logRHPI_4      0.6701      0.050     13.498      0.000       0.572       0.768\n",
      "UE            -0.0180      0.004     -4.874      0.000      -0.025      -0.011\n",
      "logRPDI        0.9881      0.178      5.540      0.000       0.636       1.340\n",
      "Q2             0.0046      0.011      0.411      0.681      -0.018       0.027\n",
      "Q3             0.0030      0.011      0.271      0.787      -0.019       0.025\n",
      "Q4             0.0009      0.011      0.085      0.933      -0.021       0.023\n",
      "==============================================================================\n",
      "Omnibus:                       31.550   Durbin-Watson:                   0.266\n",
      "Prob(Omnibus):                  0.000   Jarque-Bera (JB):               68.212\n",
      "Skew:                           0.817   Prob(JB):                     1.54e-15\n",
      "Kurtosis:                       5.617   Cond. No.                     1.70e+04\n",
      "==============================================================================\n",
      "\n",
      "Notes:\n",
      "[1] Standard Errors assume that the covariance matrix of the errors is correctly specified.\n",
      "[2] The condition number is large, 1.7e+04. This might indicate that there are\n",
      "strong multicollinearity or other numerical problems.\n"
     ]
    }
   ],
   "source": [
    "print(results3.summary())"
   ]
  },
  {
   "cell_type": "markdown",
   "metadata": {},
   "source": [
    "#### 4.3 How would you interpret $\\beta_3$? (Be careful on how unemployment rate is reported in the data set)"
   ]
  },
  {
   "cell_type": "markdown",
   "metadata": {},
   "source": [
    "Based on the regression results, $\\beta_3$(the coefficient for unemployment rate UE) is -0.0180 and statistically significant. Since unemployment is measured in percentage points in the dataset, this coefficient indicates that a one percentage point increase in unemployment rate is associated with approximately a 1.8% decrease in the Real House Price Index, holding all other variables constant. This negative relationship aligns with economic theory, as rising unemployment typically reduces housing demand and prices."
   ]
  },
  {
   "cell_type": "markdown",
   "source": [],
   "metadata": {
    "collapsed": false
   }
  },
  {
   "cell_type": "markdown",
   "metadata": {},
   "source": [
    "#### 4.4 At 5% significance level, what would you conclude about $\\beta_3$?"
   ]
  },
  {
   "cell_type": "markdown",
   "metadata": {},
   "source": [
    "At the 5% significance level, I would conclude that $\\beta_3$ is statistically significant. The regression results show a p-value of 0.000 for the unemployment rate coefficient, which is well below the 0.05 threshold. This provides strong evidence to reject the null hypothesis that $\\beta_3$ equals zero. The negative coefficient (-0.0180) confirms that unemployment rate has a significant negative effect on house prices, with each percentage point increase in unemployment associated with approximately a 1.8% decrease in the Real House Price Index."
   ]
  },
  {
   "cell_type": "markdown",
   "metadata": {},
   "source": [
    "#### 4.5 Explain why the AR(1) dependence ($\\beta_2$) is weakened, when compare with your results in Question 3."
   ]
  },
  {
   "cell_type": "markdown",
   "metadata": {},
   "source": [
    "The AR(1) dependence ($\\beta_2$) has weakened from 0.8701 in model 2 to 0.6701 in model 3 because we've introduced important economic variables (unemployment rate and personal disposable income) that explain significant variation in house prices. In the previous model, the autoregressive term was capturing not only pure price persistence but also the implicit effects of these omitted economic variables. By explicitly including UE and logRPDI in the model, they now account for some of the variation previously attributed to the autoregressive term. This demonstrates that part of what appeared to be simple price momentum was actually reflecting the underlying economic conditions that drive housing markets."
   ]
  },
  {
   "cell_type": "markdown",
   "metadata": {},
   "source": [
    "***\n",
    "## References\n",
    "- Jeffrey M. Wooldridge (2019). \"Introductory Econometrics: A Modern Approach, 7e\" Chapter 11.\n",
    "    \n",
    "- The pandas development team (2020). \"[pandas-dev/pandas: Pandas](https://pandas.pydata.org/).\" Zenodo.\n",
    "    \n",
    "- Seabold, Skipper, and Josef Perktold (2010). \"[statsmodels: Econometric and statistical modeling with python](https://www.statsmodels.org/stable/examples/notebooks/generated/ols.html).\" Proceedings of the 9th Python in Science Conference."
   ]
  },
  {
   "cell_type": "code",
   "execution_count": null,
   "outputs": [],
   "source": [],
   "metadata": {
    "collapsed": false
   }
  }
 ],
 "metadata": {
  "kernelspec": {
   "display_name": "Python 3",
   "language": "python",
   "name": "python3"
  },
  "language_info": {
   "codemirror_mode": {
    "name": "ipython",
    "version": 3
   },
   "file_extension": ".py",
   "mimetype": "text/x-python",
   "name": "python",
   "nbconvert_exporter": "python",
   "pygments_lexer": "ipython3",
   "version": "3.13.1"
  }
 },
 "nbformat": 4,
 "nbformat_minor": 4
}
